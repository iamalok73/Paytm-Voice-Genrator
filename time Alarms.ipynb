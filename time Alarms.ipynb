{
 "cells": [
  {
   "cell_type": "code",
   "execution_count": 12,
   "id": "9ee06627-5fe9-4699-8486-6841c3e18d7b",
   "metadata": {},
   "outputs": [],
   "source": [
    "import time\n",
    "import pygame as py\n",
    "from gtts import gTTS\n",
    "\n",
    "py.init()\n",
    "py.mixer.init()\n",
    "\n",
    "\n",
    "def speak(text,filename):\n",
    "    tts = gTTS(text)\n",
    "    tts.save(filename)\n",
    "    py.mixer.music.load(filename)\n",
    "    py.mixer.music.play()\n",
    "    while py.mixer.music.get_busy():\n",
    "        time.sleep(0.1)\n",
    "\n",
    "def timer():\n",
    "    second = int(input(\"enter the time in Seconds : \"))\n",
    "    speak(f\" you have only {second}.\",'start.mp3')\n",
    "\n",
    "    while second>0:\n",
    "        print(f\"time left : {second} seconds \")\n",
    "        time.sleep(1)\n",
    "        second-=1\n",
    "    print(\"times up! Stop.\")\n",
    "\n",
    "    speak(\"times up! Stop.\",\"end.mp3\")"
   ]
  },
  {
   "cell_type": "code",
   "execution_count": 13,
   "id": "70727751-6670-4db6-8c6c-30c15804aa3c",
   "metadata": {},
   "outputs": [
    {
     "name": "stdin",
     "output_type": "stream",
     "text": [
      "enter the time in Seconds :  5\n"
     ]
    },
    {
     "name": "stdout",
     "output_type": "stream",
     "text": [
      "time left : 5 seconds \n",
      "time left : 4 seconds \n",
      "time left : 3 seconds \n",
      "time left : 2 seconds \n",
      "time left : 1 seconds \n",
      "times up! Stop.\n"
     ]
    }
   ],
   "source": [
    "timer()"
   ]
  },
  {
   "cell_type": "code",
   "execution_count": null,
   "id": "94b88843-9b21-408d-a2da-a255801a2b35",
   "metadata": {},
   "outputs": [],
   "source": []
  }
 ],
 "metadata": {
  "kernelspec": {
   "display_name": "Python 3 (ipykernel)",
   "language": "python",
   "name": "python3"
  },
  "language_info": {
   "codemirror_mode": {
    "name": "ipython",
    "version": 3
   },
   "file_extension": ".py",
   "mimetype": "text/x-python",
   "name": "python",
   "nbconvert_exporter": "python",
   "pygments_lexer": "ipython3",
   "version": "3.12.7"
  }
 },
 "nbformat": 4,
 "nbformat_minor": 5
}
